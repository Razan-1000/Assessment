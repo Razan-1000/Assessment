{
 "cells": [
  {
   "cell_type": "code",
   "execution_count": 15,
   "metadata": {},
   "outputs": [
    {
     "name": "stdout",
     "output_type": "stream",
     "text": [
      "Tables in the database: []\n"
     ]
    }
   ],
   "source": [
    "\n",
    "import sqlite3\n",
    "\n",
    "conn = sqlite3.connect('database.db')\n",
    "c = conn.cursor()\n",
    "\n",
    "c.execute(\"SELECT name FROM sqlite_master WHERE type='table';\")\n",
    "print(\"Tables in the database:\", c.fetchall())\n",
    "\n",
    "c.execute(\"SELECT name FROM sqlite_master WHERE type='table';\")\n",
    "for table_name in c.fetchall():\n",
    "    table_name = table_name[0]\n",
    "    c.execute(f\"PRAGMA table_info({table_name})\")\n",
    "    print(f\"Columns in {table_name}:\", c.fetchall())\n",
    "\n",
    "# Close the connection\n",
    "conn.close()"
   ]
  },
  {
   "cell_type": "code",
   "execution_count": 16,
   "metadata": {},
   "outputs": [],
   "source": [
    "import sqlite3\n",
    "\n",
    "# Connect to the SQLite database\n",
    "conn = sqlite3.connect('database.db')\n",
    "c = conn.cursor()\n",
    "\n",
    "# Get the names of all tables in the database\n",
    "c.execute(\"SELECT name FROM sqlite_master WHERE type='table';\")\n",
    "tables = c.fetchall()\n",
    "\n",
    "for table_name in tables:\n",
    "    table_name = table_name[0]\n",
    "    # Get the number of rows in the table\n",
    "    c.execute(f\"SELECT COUNT(*) FROM {table_name}\")\n",
    "    print(f\"Number of rows in {table_name}:\", c.fetchone()[0])\n",
    "\n",
    "conn.close()"
   ]
  },
  {
   "cell_type": "code",
   "execution_count": 17,
   "metadata": {},
   "outputs": [],
   "source": [
    "from sklearn.feature_extraction.text import CountVectorizer\n",
    "import pandas as pd\n",
    "import sqlite3\n",
    "\n",
    "# Connect to the SQLite database\n",
    "conn = sqlite3.connect('database.db')\n",
    "c = conn.cursor()\n",
    "\n",
    "# Get the names of all tables in the database\n",
    "c.execute(\"SELECT name FROM sqlite_master WHERE type='table';\")\n",
    "tables = c.fetchall()\n",
    "\n",
    "# Create a CountVectorizer\n",
    "vectorizer = CountVectorizer()\n",
    "\n",
    "# For each table in the database\n",
    "for table_name in tables:\n",
    "    table_name = table_name[0]\n",
    "    # Get all data from the table\n",
    "    df = pd.read_sql_query(f\"SELECT * FROM {table_name}\", conn)\n",
    "    # Convert the data to a single string\n",
    "    data = ' '.join(df.astype(str).values.flatten())\n",
    "    # Convert the string to a vector\n",
    "    vector = vectorizer.fit_transform([data])\n",
    "    print(f\"Vector for {table_name}:\", vector.toarray())\n",
    "\n",
    "# Close the connection\n",
    "conn.close()"
   ]
  },
  {
   "cell_type": "code",
   "execution_count": 18,
   "metadata": {},
   "outputs": [
    {
     "ename": "OperationalError",
     "evalue": "no such table: my_table",
     "output_type": "error",
     "traceback": [
      "\u001b[0;31m---------------------------------------------------------------------------\u001b[0m",
      "\u001b[0;31mOperationalError\u001b[0m                          Traceback (most recent call last)",
      "Cell \u001b[0;32mIn[18], line 10\u001b[0m\n\u001b[1;32m      7\u001b[0m query \u001b[38;5;241m=\u001b[39m \u001b[38;5;124mf\u001b[39m\u001b[38;5;124m\"\u001b[39m\u001b[38;5;124mSELECT * FROM my_table WHERE data LIKE \u001b[39m\u001b[38;5;124m'\u001b[39m\u001b[38;5;124m%\u001b[39m\u001b[38;5;132;01m{\u001b[39;00mquestion\u001b[38;5;132;01m}\u001b[39;00m\u001b[38;5;124m%\u001b[39m\u001b[38;5;124m'\u001b[39m\u001b[38;5;124m\"\u001b[39m\n\u001b[1;32m      9\u001b[0m \u001b[38;5;66;03m# Execute the SQL query\u001b[39;00m\n\u001b[0;32m---> 10\u001b[0m c\u001b[38;5;241m.\u001b[39mexecute(query)\n\u001b[1;32m     12\u001b[0m \u001b[38;5;66;03m# Fetch all the results\u001b[39;00m\n\u001b[1;32m     13\u001b[0m rows \u001b[38;5;241m=\u001b[39m c\u001b[38;5;241m.\u001b[39mfetchall()\n",
      "\u001b[0;31mOperationalError\u001b[0m: no such table: my_table"
     ]
    }
   ],
   "source": [
    "# User's question\n",
    "# question = input(\"Enter your question: \")\n",
    "conn = sqlite3.connect('database.db')\n",
    "c = conn.cursor()\n",
    "question = \"الامارات\"\n",
    "# Formulate the SQL query\n",
    "query = f\"SELECT * FROM my_table WHERE data LIKE '%{question}%'\"\n",
    "\n",
    "# Execute the SQL query\n",
    "c.execute(query)\n",
    "\n",
    "# Fetch all the results\n",
    "rows = c.fetchall()\n",
    "\n",
    "# Now 'rows' is a list of tuples, where each tuple corresponds to a row in the table\n",
    "for row in rows:\n",
    "    print(row)\n",
    "\n",
    "# Don't forget to close the connection when you're done\n",
    "conn.close()"
   ]
  }
 ],
 "metadata": {
  "kernelspec": {
   "display_name": "Python 3.11.5 ('base')",
   "language": "python",
   "name": "python3"
  },
  "language_info": {
   "codemirror_mode": {
    "name": "ipython",
    "version": 3
   },
   "file_extension": ".py",
   "mimetype": "text/x-python",
   "name": "python",
   "nbconvert_exporter": "python",
   "pygments_lexer": "ipython3",
   "version": "3.11.5"
  },
  "orig_nbformat": 4,
  "vscode": {
   "interpreter": {
    "hash": "58fcc01ccd95a87dc81c65f9c528e8ab43a3c0bbe709cae590ef2a8c09fbd01f"
   }
  }
 },
 "nbformat": 4,
 "nbformat_minor": 2
}
