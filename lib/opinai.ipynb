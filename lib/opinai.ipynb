{
 "cells": [
  {
   "cell_type": "code",
   "execution_count": 2,
   "metadata": {},
   "outputs": [],
   "source": [
    "\n",
    "import openai"
   ]
  },
  {
   "cell_type": "code",
   "execution_count": 3,
   "metadata": {},
   "outputs": [
    {
     "name": "stdout",
     "output_type": "stream",
     "text": [
      "ChatCompletionMessage(content='In the realm of code, a concept profound,\\nRecursion dances, spins around,\\nLike a dream within a dream, it goes,\\nA loop that calls itself, it shows.\\n\\nA function divine, in itself it rests,\\nA task it begins, then divests,\\nCalling itself once, twice, or thrice,\\nUnraveling mysteries, like rolling dice.\\n\\nThrough depths of stacks, it journeys deep,\\nA labyrinth of calls, where thoughts steep,\\nEach recursion a story, a tale retold,\\nA loop within a loop, a pattern bold.\\n\\nInfinite possibilities it doth unfold,\\nA dance of echoes, a tale so old,\\nIn the heart of programming, recursion reigns,\\nA cycle of magic, where code attains.\\n\\nSo embrace the recursive song,\\nInfinite loops, where code belongs,\\nPoetry in motion, a dance sublime,\\nIn the world of programming, for all time.', role='assistant', function_call=None, tool_calls=None)\n",
      "\n",
      "Response from GPT-4:\n",
      "ChatCompletionMessage(content='In the realm of coding, where logic\\'s our beacon,\\nLies a concept of depths, Recursion it\\'s speakin\\'.\\nA unique device, a programmer\\'s charm,\\nWrapped in intrigue, like a spell of qualm.\\n\\nIt hustles in loops, but it\\'s not just a cycle,\\nMore like a mirror, reflecting its rival.\\nAn image within image, that\\'s how it transcends,\\nA mystery invisible, where start mimics end.\\n\\nA function so swift, calls on itself,\\nLike a curious book, rereads its own shelf.\\nEngaged in a dance, a waltz of repetition,\\nIn digital ballet, it finds its position.\\n\\nUnraveling problems with steps so neat,\\nFrom the largest of tasks, to feats petite.\\nLike Russian dolls, layer by layer,\\nRepetition revealed, with an elegant flair.\\n\\nFrom Factorials, Fibonacci, to Tree traversal,\\nRecursion holds the key to such reversal.\\nAn echo of process, till condition\\'s met,\\nHalting Problem\\'s sentinel, on infinity\\'s threat.\\n\\nBeware, tread wisely, lest you fall,\\nInto an abyss, a loophole so tall.\\nKeep a base case close, the loop’s exit sign,\\nTo halt the journey, when stars align.\\n\\n“Till you find me,\" it whispers, an eerie plea,\\nIn code\\'s labyrinth,\"I’m seen as three.\"\\nOn stack of calls, it leaves a trace,\\nRecursion, a paradox, redefining space. \\n\\nSo remember the concept, when you code,\\nIn the heart of machine, where ideas flowed.\\nDive in Recursion, lose not your sight,\\nIn this tale of loops, where depth meets light.', role='assistant', function_call=None, tool_calls=None)\n"
     ]
    }
   ],
   "source": [
    "import os\n",
    "from openai import OpenAI\n",
    "\n",
    "#api_key = 'sk-proj-8G3aBiWkMJMPca19nh4xT3BlbkFJ67ZOx5FZHRzqY8bbsLCH'\n",
    "\n",
    "#client = OpenAI(api_key = api_key)\n",
    "completion_3_5_turbo = client.chat.completions.create(\n",
    "  model=\"gpt-3.5-turbo\",\n",
    "  messages=[\n",
    "    {\"role\": \"system\", \"content\": \"You are a poetic assistant, skilled in explaining complex programming concepts with creative flair.\"},\n",
    "    {\"role\": \"user\", \"content\": \"Compose a poem that explains the concept of recursion in programming.\"}\n",
    "  ]\n",
    ")\n",
    "\n",
    "print(completion_3_5_turbo.choices[0].message)\n",
    "# GPT-4 model\n",
    "completion_gpt_4 = client.chat.completions.create(\n",
    "    model=\"gpt-4\",\n",
    "    messages=[\n",
    "        {\"role\": \"system\", \"content\": \"You are a poetic assistant, skilled in explaining complex programming concepts with creative flair.\"},\n",
    "        {\"role\": \"user\", \"content\": \"Compose a poem that explains the concept of recursion in programming.\"}\n",
    "    ]\n",
    ")\n",
    "\n",
    "print(\"\\nResponse from GPT-4:\")\n",
    "print(completion_gpt_4.choices[0].message)"
   ]
  }
 ],
 "metadata": {
  "kernelspec": {
   "display_name": "Python 3.11.5 ('base')",
   "language": "python",
   "name": "python3"
  },
  "language_info": {
   "codemirror_mode": {
    "name": "ipython",
    "version": 3
   },
   "file_extension": ".py",
   "mimetype": "text/x-python",
   "name": "python",
   "nbconvert_exporter": "python",
   "pygments_lexer": "ipython3",
   "version": "3.11.5"
  },
  "orig_nbformat": 4,
  "vscode": {
   "interpreter": {
    "hash": "58fcc01ccd95a87dc81c65f9c528e8ab43a3c0bbe709cae590ef2a8c09fbd01f"
   }
  }
 },
 "nbformat": 4,
 "nbformat_minor": 2
}
