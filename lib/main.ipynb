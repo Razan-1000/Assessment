{
 "cells": [
  {
   "cell_type": "code",
   "execution_count": 2,
   "metadata": {},
   "outputs": [],
   "source": [
    "# get a token: https://replicate.com/account\n",
    "from getpass import getpass\n",
    "import replicate\n",
    "\n",
    "import os\n",
    "# REPLICATE_API_TOKEN = getpass()\n",
    "os.environ[\"REPLICATE_API_TOKEN\"] = 'r8_LlRpyQVtqZhjqc8GJmEMFag6DZQXk5p3kvP6k'"
   ]
  },
  {
   "cell_type": "code",
   "execution_count": 3,
   "metadata": {},
   "outputs": [
    {
     "ename": "OperationalError",
     "evalue": "no such table: my_table",
     "output_type": "error",
     "traceback": [
      "\u001b[0;31m---------------------------------------------------------------------------\u001b[0m",
      "\u001b[0;31mOperationalError\u001b[0m                          Traceback (most recent call last)",
      "Cell \u001b[0;32mIn[3], line 8\u001b[0m\n\u001b[1;32m      6\u001b[0m \u001b[38;5;66;03m# Formulate the SQL query\u001b[39;00m\n\u001b[1;32m      7\u001b[0m query \u001b[38;5;241m=\u001b[39m \u001b[38;5;124mf\u001b[39m\u001b[38;5;124m\"\u001b[39m\u001b[38;5;124mSELECT * FROM my_table WHERE data LIKE \u001b[39m\u001b[38;5;124m'\u001b[39m\u001b[38;5;124m%\u001b[39m\u001b[38;5;132;01m{\u001b[39;00mquestion\u001b[38;5;132;01m}\u001b[39;00m\u001b[38;5;124m%\u001b[39m\u001b[38;5;124m'\u001b[39m\u001b[38;5;124m\"\u001b[39m\n\u001b[0;32m----> 8\u001b[0m c\u001b[38;5;241m.\u001b[39mexecute(query)\n\u001b[1;32m      9\u001b[0m rows \u001b[38;5;241m=\u001b[39m c\u001b[38;5;241m.\u001b[39mfetchall()\n\u001b[1;32m     10\u001b[0m relative_data\u001b[38;5;241m=\u001b[39m[]\n",
      "\u001b[0;31mOperationalError\u001b[0m: no such table: my_table"
     ]
    }
   ],
   "source": [
    "import sqlite3\n",
    "# question = input(\"Enter your question: \")\n",
    "conn = sqlite3.connect('your_database.db')\n",
    "c = conn.cursor()\n",
    "question = \"الامارات\"\n",
    "# Formulate the SQL query\n",
    "query = f\"SELECT * FROM my_table WHERE data LIKE '%{question}%'\"\n",
    "c.execute(query)\n",
    "rows = c.fetchall()\n",
    "relative_data=[]\n",
    "# Now 'rows' is a list of tuples, where each tuple corresponds to a row in the table\n",
    "for row in rows:\n",
    "    relative_data.append(row[2])\n",
    "\n",
    "rows"
   ]
  }
 ],
 "metadata": {
  "kernelspec": {
   "display_name": "Python 3.11.5 ('base')",
   "language": "python",
   "name": "python3"
  },
  "language_info": {
   "codemirror_mode": {
    "name": "ipython",
    "version": 3
   },
   "file_extension": ".py",
   "mimetype": "text/x-python",
   "name": "python",
   "nbconvert_exporter": "python",
   "pygments_lexer": "ipython3",
   "version": "3.11.5"
  },
  "orig_nbformat": 4,
  "vscode": {
   "interpreter": {
    "hash": "58fcc01ccd95a87dc81c65f9c528e8ab43a3c0bbe709cae590ef2a8c09fbd01f"
   }
  }
 },
 "nbformat": 4,
 "nbformat_minor": 2
}
