{
 "cells": [
  {
   "cell_type": "code",
   "execution_count": 1,
   "metadata": {},
   "outputs": [],
   "source": [
    "data=[]\n",
    "base_url = \"https://u.ae\"\n",
    "\n",
    "visited = {}\n",
    "import requests\n",
    "from bs4 import BeautifulSoup"
   ]
  },
  {
   "cell_type": "code",
   "execution_count": 2,
   "metadata": {},
   "outputs": [
    {
     "name": "stdout",
     "output_type": "stream",
     "text": [
      "1 - https://u.ae/ar-AE/information-and-services/top-government-services 450492\n",
      "1 - https://u.ae/ar-AE/information-and-services 289853\n",
      "5 - https://u.ae/ar-AE/information-and-services/services-a-to-z 3094256\n",
      "7 - https://selfcare.uaepass.ae/ 3760\n",
      "waiting...\n"
     ]
    },
    {
     "ename": "AttributeError",
     "evalue": "'NoneType' object has no attribute 'find_all'",
     "output_type": "error",
     "traceback": [
      "\u001b[0;31m---------------------------------------------------------------------------\u001b[0m",
      "\u001b[0;31mAttributeError\u001b[0m                            Traceback (most recent call last)",
      "Cell \u001b[0;32mIn[2], line 48\u001b[0m\n\u001b[1;32m     44\u001b[0m         scrape_links(link, base_url, visited)   \n\u001b[1;32m     46\u001b[0m     \u001b[38;5;28;01mreturn\u001b[39;00m data\n\u001b[0;32m---> 48\u001b[0m scrape_links(base_url, base_url, visited)\n",
      "Cell \u001b[0;32mIn[2], line 44\u001b[0m, in \u001b[0;36mscrape_links\u001b[0;34m(url, base_url, visited)\u001b[0m\n\u001b[1;32m     42\u001b[0m         time\u001b[38;5;241m.\u001b[39msleep(\u001b[38;5;241m20\u001b[39m)  \n\u001b[1;32m     43\u001b[0m         \u001b[38;5;28mprint\u001b[39m(\u001b[38;5;124m'\u001b[39m\u001b[38;5;124mwaiting...\u001b[39m\u001b[38;5;124m'\u001b[39m)\n\u001b[0;32m---> 44\u001b[0m     scrape_links(link, base_url, visited)   \n\u001b[1;32m     46\u001b[0m \u001b[38;5;28;01mreturn\u001b[39;00m data\n",
      "Cell \u001b[0;32mIn[2], line 44\u001b[0m, in \u001b[0;36mscrape_links\u001b[0;34m(url, base_url, visited)\u001b[0m\n\u001b[1;32m     42\u001b[0m         time\u001b[38;5;241m.\u001b[39msleep(\u001b[38;5;241m20\u001b[39m)  \n\u001b[1;32m     43\u001b[0m         \u001b[38;5;28mprint\u001b[39m(\u001b[38;5;124m'\u001b[39m\u001b[38;5;124mwaiting...\u001b[39m\u001b[38;5;124m'\u001b[39m)\n\u001b[0;32m---> 44\u001b[0m     scrape_links(link, base_url, visited)   \n\u001b[1;32m     46\u001b[0m \u001b[38;5;28;01mreturn\u001b[39;00m data\n",
      "    \u001b[0;31m[... skipping similar frames: scrape_links at line 44 (1 times)]\u001b[0m\n",
      "Cell \u001b[0;32mIn[2], line 44\u001b[0m, in \u001b[0;36mscrape_links\u001b[0;34m(url, base_url, visited)\u001b[0m\n\u001b[1;32m     42\u001b[0m         time\u001b[38;5;241m.\u001b[39msleep(\u001b[38;5;241m20\u001b[39m)  \n\u001b[1;32m     43\u001b[0m         \u001b[38;5;28mprint\u001b[39m(\u001b[38;5;124m'\u001b[39m\u001b[38;5;124mwaiting...\u001b[39m\u001b[38;5;124m'\u001b[39m)\n\u001b[0;32m---> 44\u001b[0m     scrape_links(link, base_url, visited)   \n\u001b[1;32m     46\u001b[0m \u001b[38;5;28;01mreturn\u001b[39;00m data\n",
      "Cell \u001b[0;32mIn[2], line 11\u001b[0m, in \u001b[0;36mscrape_links\u001b[0;34m(url, base_url, visited)\u001b[0m\n\u001b[1;32m      8\u001b[0m div \u001b[38;5;241m=\u001b[39m soup\u001b[38;5;241m.\u001b[39mfind(\u001b[38;5;124m'\u001b[39m\u001b[38;5;124mdiv\u001b[39m\u001b[38;5;124m'\u001b[39m, class_\u001b[38;5;241m=\u001b[39m\u001b[38;5;124m'\u001b[39m\u001b[38;5;124mpadding-bottom-60\u001b[39m\u001b[38;5;124m'\u001b[39m)\n\u001b[1;32m     10\u001b[0m \u001b[38;5;66;03m# Find all links in the div\u001b[39;00m\n\u001b[0;32m---> 11\u001b[0m a_tags \u001b[38;5;241m=\u001b[39m div\u001b[38;5;241m.\u001b[39mfind_all(\u001b[38;5;124m'\u001b[39m\u001b[38;5;124ma\u001b[39m\u001b[38;5;124m'\u001b[39m)\n\u001b[1;32m     13\u001b[0m \u001b[38;5;28;01mfor\u001b[39;00m i, a_tag \u001b[38;5;129;01min\u001b[39;00m \u001b[38;5;28menumerate\u001b[39m(a_tags):\n\u001b[1;32m     14\u001b[0m     link \u001b[38;5;241m=\u001b[39m a_tag[\u001b[38;5;124m'\u001b[39m\u001b[38;5;124mhref\u001b[39m\u001b[38;5;124m'\u001b[39m]\n",
      "\u001b[0;31mAttributeError\u001b[0m: 'NoneType' object has no attribute 'find_all'"
     ]
    }
   ],
   "source": [
    "import time\n",
    "\n",
    "def scrape_links(url, base_url, visited):\n",
    "    res = requests.get(url)\n",
    "    soup = BeautifulSoup(res.text, \"html.parser\")\n",
    "\n",
    "    # Find the div with the class 'padding-bottom-60'\n",
    "    div = soup.find('div', class_='padding-bottom-60')\n",
    "\n",
    "    # Find all links in the div\n",
    "    a_tags = div.find_all('a')\n",
    "\n",
    "    for i, a_tag in enumerate(a_tags):\n",
    "        link = a_tag['href']\n",
    "       # Ensure the link is complete and contains the base URL\n",
    "        if not link.startswith(\"http\"):\n",
    "            link = base_url + link\n",
    "        \n",
    "        # Skip certain links\n",
    "        if '/about' in link or '/?' in link:\n",
    "            continue\n",
    "\n",
    "        # Skip this link if it has been visited\n",
    "        if link in visited:\n",
    "            continue\n",
    "\n",
    "        # Mark this link as visited\n",
    "        visited[link] = True\n",
    "\n",
    "        # Get the data for each link\n",
    "        try:\n",
    "            link_res = requests.get(link)\n",
    "            print(i + 1, '-', link, len(link_res.text))\n",
    "\n",
    "            data.append({link: link_res.text})\n",
    "        except requests.exceptions.RequestException as e:\n",
    "            print(f\"Failed to fetch {link}: {e}\")\n",
    "            continue\n",
    "\n",
    "        # Add a timeout after each 7 iterations\n",
    "        if (i + 1) % 7 == 0:\n",
    "            time.sleep(20)  \n",
    "            print('waiting...')\n",
    "        scrape_links(link, base_url, visited)   \n",
    "\n",
    "    return data\n",
    "\n",
    "scrape_links(base_url, base_url, visited)\n",
    "\n"
   ]
  },
  {
   "cell_type": "code",
   "execution_count": null,
   "metadata": {},
   "outputs": [],
   "source": [
    "# scrape_links(base_url, base_url, visited)\n",
    "visited"
   ]
  }
 ],
 "metadata": {
  "kernelspec": {
   "display_name": "Python 3.11.5 ('base')",
   "language": "python",
   "name": "python3"
  },
  "language_info": {
   "codemirror_mode": {
    "name": "ipython",
    "version": 3
   },
   "file_extension": ".py",
   "mimetype": "text/x-python",
   "name": "python",
   "nbconvert_exporter": "python",
   "pygments_lexer": "ipython3",
   "version": "3.11.5"
  },
  "orig_nbformat": 4,
  "vscode": {
   "interpreter": {
    "hash": "58fcc01ccd95a87dc81c65f9c528e8ab43a3c0bbe709cae590ef2a8c09fbd01f"
   }
  }
 },
 "nbformat": 4,
 "nbformat_minor": 2
}
